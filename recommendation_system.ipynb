{
 "cells": [
  {
   "cell_type": "markdown",
   "id": "7ef75f31-6e8c-4c6b-bc34-f13c4c9ec1ae",
   "metadata": {},
   "source": [
    "# AI/Machine Learning Intern Challenge  \n",
    "## Name: Hasham Khan  \n",
    "**University**: Michigan Technological University  \n",
    "**Program**: Data Science Graduate Student\n"
   ]
  },
  {
   "cell_type": "markdown",
   "id": "8b9f9841-90ae-4c6f-9fea-4e0d2f6aa171",
   "metadata": {},
   "source": [
    "# Movie Recommendation System\n",
    "\n",
    "A Netflix movie recommendation system that suggests movies based on your preferences using machine learning.\n"
   ]
  },
  {
   "cell_type": "markdown",
   "id": "522448f3-c92c-4698-96df-7f2d3f0e73ea",
   "metadata": {},
   "source": [
    "**Step 1 :**   **Load the Netflix dataset and clean missing values**"
   ]
  },
  {
   "cell_type": "code",
   "execution_count": 5,
   "id": "1592ca61-a365-45f9-9b12-2a8bf7ff3a18",
   "metadata": {},
   "outputs": [],
   "source": [
    "import pandas as pd\n",
    "def load_data(file_path):\n",
    "    df = pd.read_csv(file_path)\n",
    "    df.fillna(\"\", inplace=True)\n",
    "    df['combined_text'] = df['title'] + \" \" + df['description'] + \" \" + df['listed_in']\n",
    "    return df\n",
    "\n",
    "# Load dataset\n",
    "df = load_data(\"netflix_titles.csv\")"
   ]
  },
  {
   "cell_type": "markdown",
   "id": "d0d6bd01-5b29-422e-a42d-a8c9c9dd50f4",
   "metadata": {},
   "source": [
    "**Step 2 :**   **Vectorize the combined text(title, description, genre) using TF-IDF(Term Freq-Inverse Doc Freq)**"
   ]
  },
  {
   "cell_type": "code",
   "execution_count": 2,
   "id": "d348fbdc-a12b-450b-89ab-71cad3909246",
   "metadata": {},
   "outputs": [],
   "source": [
    "from sklearn.feature_extraction.text import TfidfVectorizer\n",
    "def build_tfidf_matrix(df):\n",
    "    vectorizer = TfidfVectorizer(stop_words='english')\n",
    "    tfidf_matrix = vectorizer.fit_transform(df['combined_text'])\n",
    "    return vectorizer, tfidf_matrix\n",
    "# TF-IDF matrix for the dataset\n",
    "vectorizer, tfidf_matrix = build_tfidf_matrix(df)"
   ]
  },
  {
   "cell_type": "markdown",
   "id": "f7ffd542-168d-4a7b-8775-82e9aa871dff",
   "metadata": {},
   "source": [
    "**Step 3 :**   **Calculating Similarity between user input and movie dataset**"
   ]
  },
  {
   "cell_type": "code",
   "execution_count": 3,
   "id": "f10c1dd6-d1ae-4e64-868a-b404b1d4c931",
   "metadata": {},
   "outputs": [],
   "source": [
    "from sklearn.metrics.pairwise import cosine_similarity\n",
    "\n",
    "# Function to get movie recommendations based on user input\n",
    "def get_recommendations(user_input, vectorizer, tfidf_matrix, df):\n",
    "    # Transform user input into the TF-IDF space\n",
    "    user_tfidf = vectorizer.transform([user_input])\n",
    "    \n",
    "    # Calculate cosine similarity\n",
    "    similarities = cosine_similarity(user_tfidf, tfidf_matrix).flatten()\n",
    "    \n",
    "    # Add similarity scores to the dataframe\n",
    "    df['similarity'] = similarities\n",
    "    \n",
    "    # Get top 3 most similar movies  ,we can  from 3 upto any number accordingly\n",
    "    recommendations = df.nlargest(3, 'similarity')\n",
    "    \n",
    "    # Display recommended movies\n",
    "    print(\"\\nRecommended Movies:\")\n",
    "    print(\"-\" * 50)\n",
    "    for idx, movie in recommendations.iterrows():\n",
    "        print(f\"\\n{movie['title']}\")\n",
    "        print(f\"Similarity: {movie['similarity']*100:.1f}%\")\n",
    "        print(f\"Genre: {movie['listed_in']}\")\n",
    "        print(\"-\" * 50)\n",
    "\n",
    "# Example usage (this part will be inside the main loop or called separately)\n",
    "# get_recommendations(\"comedy action adventure\", vectorizer, tfidf_matrix, df)\n"
   ]
  },
  {
   "cell_type": "markdown",
   "id": "93953f7c-b522-4af0-8edc-6dedb37e986c",
   "metadata": {},
   "source": [
    "**Step 4 :**   **Interactive user input**"
   ]
  },
  {
   "cell_type": "code",
   "execution_count": 4,
   "id": "d67f005b-5579-4314-8520-f0c3a7c6b197",
   "metadata": {},
   "outputs": [
    {
     "name": "stdout",
     "output_type": "stream",
     "text": [
      "\n",
      "Enter what kind of movies you like (or 'quit' to exit):\n"
     ]
    },
    {
     "name": "stdin",
     "output_type": "stream",
     "text": [
      ">  i love racing\n"
     ]
    },
    {
     "name": "stdout",
     "output_type": "stream",
     "text": [
      "\n",
      "Recommended Movies:\n",
      "--------------------------------------------------\n",
      "\n",
      "Race 2\n",
      "Similarity: 27.5%\n",
      "Genre: Action & Adventure, International Movies, Music & Musicals\n",
      "--------------------------------------------------\n",
      "\n",
      "Race\n",
      "Similarity: 24.9%\n",
      "Genre: Action & Adventure, International Movies, Music & Musicals\n",
      "--------------------------------------------------\n",
      "\n",
      "MONKART\n",
      "Similarity: 23.7%\n",
      "Genre: Kids' TV, Korean TV Shows\n",
      "--------------------------------------------------\n",
      "\n",
      "Enter what kind of movies you like (or 'quit' to exit):\n"
     ]
    },
    {
     "name": "stdin",
     "output_type": "stream",
     "text": [
      ">  I like action movies set in space\n"
     ]
    },
    {
     "name": "stdout",
     "output_type": "stream",
     "text": [
      "\n",
      "Recommended Movies:\n",
      "--------------------------------------------------\n",
      "\n",
      "A StoryBots Space Adventure\n",
      "Similarity: 32.1%\n",
      "Genre: Children & Family Movies\n",
      "--------------------------------------------------\n",
      "\n",
      "Star Trek: Deep Space Nine\n",
      "Similarity: 28.8%\n",
      "Genre: TV Action & Adventure, TV Sci-Fi & Fantasy\n",
      "--------------------------------------------------\n",
      "\n",
      "The Epic Tales of Captain Underpants in Space\n",
      "Similarity: 25.4%\n",
      "Genre: Kids' TV, TV Action & Adventure, TV Comedies\n",
      "--------------------------------------------------\n",
      "\n",
      "Enter what kind of movies you like (or 'quit' to exit):\n"
     ]
    },
    {
     "name": "stdin",
     "output_type": "stream",
     "text": [
      ">  quit\n"
     ]
    },
    {
     "name": "stdout",
     "output_type": "stream",
     "text": [
      "Goodbye!\n"
     ]
    }
   ],
   "source": [
    "# Main loop for interactive user input (optional)\n",
    "def main_loop():\n",
    "    while True:\n",
    "        print(\"\\nEnter what kind of movies you like (or 'quit' to exit):\")\n",
    "        user_input = input(\"> \")\n",
    "        \n",
    "        if user_input.lower() == 'quit':\n",
    "            print(\"Goodbye!\")\n",
    "            break\n",
    "        \n",
    "        get_recommendations(user_input, vectorizer, tfidf_matrix, df)\n",
    "\n",
    "# Uncomment to run the loop\n",
    "main_loop()\n"
   ]
  },
  {
   "cell_type": "code",
   "execution_count": null,
   "id": "426e393f-bca8-43e0-b958-9e2e8c1d6246",
   "metadata": {},
   "outputs": [],
   "source": []
  }
 ],
 "metadata": {
  "kernelspec": {
   "display_name": "Python 3 (ipykernel)",
   "language": "python",
   "name": "python3"
  },
  "language_info": {
   "codemirror_mode": {
    "name": "ipython",
    "version": 3
   },
   "file_extension": ".py",
   "mimetype": "text/x-python",
   "name": "python",
   "nbconvert_exporter": "python",
   "pygments_lexer": "ipython3",
   "version": "3.13.2"
  }
 },
 "nbformat": 4,
 "nbformat_minor": 5
}
